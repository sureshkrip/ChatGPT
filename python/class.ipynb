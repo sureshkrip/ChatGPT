{
 "cells": [
  {
   "attachments": {},
   "cell_type": "markdown",
   "metadata": {},
   "source": [
    "### @Static Method"
   ]
  },
  {
   "cell_type": "code",
   "execution_count": 3,
   "metadata": {},
   "outputs": [],
   "source": [
    "#Defining a utility method for a class:\n",
    "class MyClass:\n",
    "    @staticmethod\n",
    "    def double(x):\n",
    "        return x * 2\n",
    "#it can be called using the class name, without needing an instance of the class:\n",
    "\n",
    "#Creating a factory method for a class:\n",
    "class Person:\n",
    "    def __init__(self, name, age):\n",
    "        self.name = name\n",
    "        self.age = age\n",
    "\n",
    "    @staticmethod\n",
    "    def from_birth_year(name, birth_year):\n",
    "        age = datetime.date.today().year - birth_year\n",
    "        return Person(name, age)\n",
    "#Because the from_birth_year() method doesn't need to access any instance-specific data, it can be defined as a static method"
   ]
  },
  {
   "cell_type": "code",
   "execution_count": 4,
   "metadata": {},
   "outputs": [
    {
     "name": "stdout",
     "output_type": "stream",
     "text": [
      "Class method called with class_var=0\n",
      "Instance method called with instance_var=10 and class_var=0\n",
      "Instance method called with instance_var=10 and class_var=1\n",
      "Class method called with class_var=1\n"
     ]
    },
    {
     "ename": "",
     "evalue": "",
     "output_type": "error",
     "traceback": [
      "\u001b[1;31mThe Kernel crashed while executing code in the the current cell or a previous cell. Please review the code in the cell(s) to identify a possible cause of the failure. Click <a href='https://aka.ms/vscodeJupyterKernelCrash'>here</a> for more info. View Jupyter <a href='command:jupyter.viewOutput'>log</a> for further details."
     ]
    }
   ],
   "source": [
    "class MyClass:\n",
    "    class_var = 0\n",
    "\n",
    "    def __init__(self, instance_var):\n",
    "        self.instance_var = instance_var\n",
    "\n",
    "    def instance_method(self):\n",
    "        print(f\"Instance method called with instance_var={self.instance_var} and class_var={MyClass.class_var}\")\n",
    "\n",
    "    @classmethod\n",
    "    def class_method(cls):\n",
    "        print(f\"Class method called with class_var={cls.class_var}\")\n",
    "\n",
    "MyClass.class_method()   # Output: Class method called with class_var=0\n",
    "\n",
    "obj = MyClass(10)\n",
    "obj.instance_method()    # Output: Instance method called with instance_var=10 and class_var=0\n",
    "MyClass.class_var = 1\n",
    "obj.instance_method()    # Output: Instance method called with instance_var=10 and class_var=1\n",
    "MyClass.class_method()   # Output: Class method called with class_var=1\n"
   ]
  },
  {
   "cell_type": "code",
   "execution_count": 6,
   "metadata": {},
   "outputs": [
    {
     "name": "stdout",
     "output_type": "stream",
     "text": [
      " is a red car.\n"
     ]
    }
   ],
   "source": [
    "class Vehicle:\n",
    "    def __init__(self, name):\n",
    "        self.name = name\n",
    "\n",
    "    def start(self):\n",
    "        print(f\"{self.name} started.\")\n",
    "\n",
    "\n",
    "class Car(Vehicle):\n",
    "    def __init__(self, color):\n",
    "      #  super().__init__(name)  # Calling the superclass constructor\n",
    "        self.color = color\n",
    "\n",
    "    def start(self):\n",
    "       # super().start()  # Calling the superclass method\n",
    "        print(f\" is a {self.color} car.\")\n",
    "\n",
    "\n",
    "my_car = Car(\"red\")\n",
    "my_car.start()\n"
   ]
  },
  {
   "cell_type": "code",
   "execution_count": 20,
   "metadata": {},
   "outputs": [],
   "source": [
    "class A:\n",
    "    def init(self):\n",
    "        print(\"in A\")\n",
    "        self.x = 10"
   ]
  },
  {
   "cell_type": "code",
   "execution_count": 19,
   "metadata": {},
   "outputs": [],
   "source": [
    "class B(A):\n",
    "    def init(self):\n",
    "        print(\"in B\")\n",
    "        super().init()\n",
    "        self.y = 20\n",
    "\n"
   ]
  },
  {
   "cell_type": "code",
   "execution_count": 25,
   "metadata": {},
   "outputs": [
    {
     "ename": "AttributeError",
     "evalue": "'B' object has no attribute 'x'",
     "output_type": "error",
     "traceback": [
      "\u001b[1;31m---------------------------------------------------------------------------\u001b[0m",
      "\u001b[1;31mAttributeError\u001b[0m                            Traceback (most recent call last)",
      "Cell \u001b[1;32mIn[25], line 2\u001b[0m\n\u001b[0;32m      1\u001b[0m obj \u001b[39m=\u001b[39m B()\n\u001b[1;32m----> 2\u001b[0m \u001b[39mprint\u001b[39m(obj\u001b[39m.\u001b[39;49mx)\n",
      "\u001b[1;31mAttributeError\u001b[0m: 'B' object has no attribute 'x'"
     ]
    }
   ],
   "source": [
    "obj = B()\n",
    "print(obj.x)"
   ]
  },
  {
   "cell_type": "code",
   "execution_count": 1,
   "metadata": {},
   "outputs": [
    {
     "name": "stdout",
     "output_type": "stream",
     "text": [
      "Toyota started.\n",
      "Toyota is driving.\n",
      "Toyota stopped.\n",
      "Boeing started.\n",
      "Boeing is flying.\n",
      "Boeing stopped.\n"
     ]
    }
   ],
   "source": [
    "class Vehicle:\n",
    "    def __init__(self, name):\n",
    "        self.name = name\n",
    "\n",
    "    def start(self):\n",
    "        print(f\"{self.name} started.\")\n",
    "\n",
    "    def stop(self):\n",
    "        print(f\"{self.name} stopped.\")\n",
    "\n",
    "\n",
    "class FlyingVehicle:\n",
    "    def fly(self):\n",
    "        print(f\"{self.name} is flying.\")\n",
    "\n",
    "\n",
    "class Car(Vehicle):\n",
    "    def __init__(self, name):\n",
    "        super().__init__(name)\n",
    "\n",
    "    def drive(self):\n",
    "        print(f\"{self.name} is driving.\")\n",
    "\n",
    "\n",
    "class Airplane(Vehicle, FlyingVehicle):\n",
    "    def __init__(self, name):\n",
    "        super().__init__(name)\n",
    "\n",
    "\n",
    "my_car = Car(\"Toyota\")\n",
    "my_car.start()\n",
    "my_car.drive()\n",
    "my_car.stop()\n",
    "\n",
    "my_airplane = Airplane(\"Boeing\")\n",
    "my_airplane.start()\n",
    "my_airplane.fly()\n",
    "my_airplane.stop()\n"
   ]
  },
  {
   "cell_type": "code",
   "execution_count": null,
   "metadata": {},
   "outputs": [],
   "source": []
  }
 ],
 "metadata": {
  "kernelspec": {
   "display_name": "Python 3",
   "language": "python",
   "name": "python3"
  },
  "language_info": {
   "codemirror_mode": {
    "name": "ipython",
    "version": 3
   },
   "file_extension": ".py",
   "mimetype": "text/x-python",
   "name": "python",
   "nbconvert_exporter": "python",
   "pygments_lexer": "ipython3",
   "version": "3.10.11"
  },
  "orig_nbformat": 4,
  "vscode": {
   "interpreter": {
    "hash": "be3edf5912b4980d81f70677b363b9d354447b542a38ea12203c9519a05f74f9"
   }
  }
 },
 "nbformat": 4,
 "nbformat_minor": 2
}
